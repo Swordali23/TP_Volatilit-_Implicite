{
 "cells": [
  {
   "cell_type": "code",
   "execution_count": 70,
   "metadata": {},
   "outputs": [],
   "source": [
    "import numpy as np\n",
    "from math import erfc\n"
   ]
  },
  {
   "cell_type": "code",
   "execution_count": 71,
   "metadata": {},
   "outputs": [],
   "source": [
    "T = 3 # maturité\n",
    "K = E = 100 # strike\n",
    "r = 0.1 # taux d'intérêt\n",
    "C0 = 50 # prix du call\n",
    "S0 = 300 # prix du sous-jacent"
   ]
  },
  {
   "cell_type": "code",
   "execution_count": 72,
   "metadata": {},
   "outputs": [],
   "source": [
    "def d1(sigma):\n",
    "    return (np.log(S0/K) + (r + sigma**2 / 2) * T)/(sigma * np.sqrt(T))"
   ]
  },
  {
   "cell_type": "code",
   "execution_count": 73,
   "metadata": {},
   "outputs": [],
   "source": [
    "def d2(sigma):\n",
    "    return d1(sigma) - sigma * np.sqrt(T)"
   ]
  },
  {
   "cell_type": "code",
   "execution_count": 74,
   "metadata": {},
   "outputs": [],
   "source": [
    "Ee = E * np.exp(r * T)"
   ]
  },
  {
   "cell_type": "code",
   "execution_count": 75,
   "metadata": {},
   "outputs": [],
   "source": [
    "def N1(sigma):\n",
    "    return 0.5 * (erfc(-d1(sigma) / np.sqrt(2)))"
   ]
  },
  {
   "cell_type": "code",
   "execution_count": 76,
   "metadata": {},
   "outputs": [],
   "source": [
    "def N2(sigma):\n",
    "    return 0.5 * (erfc(-d2(sigma) / np.sqrt(2)))"
   ]
  },
  {
   "cell_type": "code",
   "execution_count": 77,
   "metadata": {},
   "outputs": [],
   "source": [
    "def c(sigma):\n",
    "    return S0 * N1(sigma) - Ee * np.exp(-r * T) * N2(sigma)"
   ]
  },
  {
   "cell_type": "code",
   "execution_count": 78,
   "metadata": {},
   "outputs": [],
   "source": [
    "def F(sigma):\n",
    "    return C0-c(sigma)"
   ]
  },
  {
   "cell_type": "code",
   "execution_count": 79,
   "metadata": {},
   "outputs": [
    {
     "name": "stderr",
     "output_type": "stream",
     "text": [
      "C:\\Users\\qdesa\\AppData\\Local\\Temp\\ipykernel_11000\\2809725518.py:2: RuntimeWarning: divide by zero encountered in double_scalars\n",
      "  return (np.log(S0/K) + (r + sigma**2 / 2) * T)/(sigma * np.sqrt(T))\n"
     ]
    }
   ],
   "source": [
    "a=0\n",
    "a1=a\n",
    "b=10\n",
    "b1=b\n",
    "d=(a+b)/2\n",
    "i=0\n",
    "\n",
    "while i<300:\n",
    "    if (F(a) * F(d)) <0:\n",
    "        b=d\n",
    "    else:\n",
    "        a=d\n",
    "    d=(a+b)/2\n",
    "    i=i+1"
   ]
  },
  {
   "cell_type": "code",
   "execution_count": 80,
   "metadata": {},
   "outputs": [
    {
     "ename": "TypeError",
     "evalue": "unsupported operand type(s) for ** or pow(): 'list' and 'int'",
     "output_type": "error",
     "traceback": [
      "\u001b[1;31m---------------------------------------------------------------------------\u001b[0m",
      "\u001b[1;31mTypeError\u001b[0m                                 Traceback (most recent call last)",
      "Cell \u001b[1;32mIn [80], line 2\u001b[0m\n\u001b[0;32m      1\u001b[0m \u001b[39mimport\u001b[39;00m \u001b[39mmatplotlib\u001b[39;00m\u001b[39m.\u001b[39;00m\u001b[39mpyplot\u001b[39;00m \u001b[39mas\u001b[39;00m \u001b[39mplt\u001b[39;00m\n\u001b[1;32m----> 2\u001b[0m plt\u001b[39m.\u001b[39mplot([a1,b1],F([a1,b1]),color\u001b[39m=\u001b[39m\u001b[39m'\u001b[39m\u001b[39mred\u001b[39m\u001b[39m'\u001b[39m)\n",
      "Cell \u001b[1;32mIn [78], line 2\u001b[0m, in \u001b[0;36mF\u001b[1;34m(sigma)\u001b[0m\n\u001b[0;32m      1\u001b[0m \u001b[39mdef\u001b[39;00m \u001b[39mF\u001b[39m(sigma):\n\u001b[1;32m----> 2\u001b[0m     \u001b[39mreturn\u001b[39;00m C0\u001b[39m-\u001b[39mc(sigma)\n",
      "Cell \u001b[1;32mIn [77], line 2\u001b[0m, in \u001b[0;36mc\u001b[1;34m(sigma)\u001b[0m\n\u001b[0;32m      1\u001b[0m \u001b[39mdef\u001b[39;00m \u001b[39mc\u001b[39m(sigma):\n\u001b[1;32m----> 2\u001b[0m     \u001b[39mreturn\u001b[39;00m S0 \u001b[39m*\u001b[39m N1(sigma) \u001b[39m-\u001b[39m Ee \u001b[39m*\u001b[39m np\u001b[39m.\u001b[39mexp(\u001b[39m-\u001b[39mr \u001b[39m*\u001b[39m T) \u001b[39m*\u001b[39m N2(sigma)\n",
      "Cell \u001b[1;32mIn [75], line 2\u001b[0m, in \u001b[0;36mN1\u001b[1;34m(sigma)\u001b[0m\n\u001b[0;32m      1\u001b[0m \u001b[39mdef\u001b[39;00m \u001b[39mN1\u001b[39m(sigma):\n\u001b[1;32m----> 2\u001b[0m     \u001b[39mreturn\u001b[39;00m \u001b[39m0.5\u001b[39m \u001b[39m*\u001b[39m (erfc(\u001b[39m-\u001b[39md1(sigma) \u001b[39m/\u001b[39m np\u001b[39m.\u001b[39msqrt(\u001b[39m2\u001b[39m)))\n",
      "Cell \u001b[1;32mIn [72], line 2\u001b[0m, in \u001b[0;36md1\u001b[1;34m(sigma)\u001b[0m\n\u001b[0;32m      1\u001b[0m \u001b[39mdef\u001b[39;00m \u001b[39md1\u001b[39m(sigma):\n\u001b[1;32m----> 2\u001b[0m     \u001b[39mreturn\u001b[39;00m (np\u001b[39m.\u001b[39mlog(S0\u001b[39m/\u001b[39mK) \u001b[39m+\u001b[39m (r \u001b[39m+\u001b[39m sigma\u001b[39m*\u001b[39;49m\u001b[39m*\u001b[39;49m\u001b[39m2\u001b[39;49m \u001b[39m/\u001b[39m \u001b[39m2\u001b[39m) \u001b[39m*\u001b[39m T)\u001b[39m/\u001b[39m(sigma \u001b[39m*\u001b[39m np\u001b[39m.\u001b[39msqrt(T))\n",
      "\u001b[1;31mTypeError\u001b[0m: unsupported operand type(s) for ** or pow(): 'list' and 'int'"
     ]
    }
   ],
   "source": [
    "import matplotlib.pyplot as plt\n",
    "plt.plot([a1,b1],F([a1,b1]),color='red')"
   ]
  },
  {
   "cell_type": "code",
   "execution_count": null,
   "metadata": {},
   "outputs": [],
   "source": [
    "# volatilite = d"
   ]
  }
 ],
 "metadata": {
  "kernelspec": {
   "display_name": "Python 3.10.7 64-bit",
   "language": "python",
   "name": "python3"
  },
  "language_info": {
   "codemirror_mode": {
    "name": "ipython",
    "version": 3
   },
   "file_extension": ".py",
   "mimetype": "text/x-python",
   "name": "python",
   "nbconvert_exporter": "python",
   "pygments_lexer": "ipython3",
   "version": "3.10.7"
  },
  "orig_nbformat": 4,
  "vscode": {
   "interpreter": {
    "hash": "ba8719f22aec4b0a7f4ea392cdf6257b183f543dc18f4206b740c09071aeaf38"
   }
  }
 },
 "nbformat": 4,
 "nbformat_minor": 2
}
